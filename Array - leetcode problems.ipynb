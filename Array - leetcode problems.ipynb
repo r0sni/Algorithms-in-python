{
 "cells": [
  {
   "cell_type": "markdown",
   "id": "e1b761f2",
   "metadata": {},
   "source": [
    "# Two sum"
   ]
  },
  {
   "cell_type": "code",
   "execution_count": 4,
   "id": "06af9422",
   "metadata": {},
   "outputs": [],
   "source": [
    "class Solution:\n",
    "    def twoSum(self, nums,target):\n",
    "        length = len(nums)\n",
    "        for i in range(length):\n",
    "            diff = target - nums[i]\n",
    "            for j in range(i+1, length):\n",
    "                if nums[j] == diff:\n",
    "                    return [i,j]"
   ]
  },
  {
   "cell_type": "code",
   "execution_count": 5,
   "id": "61e7179a",
   "metadata": {},
   "outputs": [],
   "source": [
    "class Solution:\n",
    "    def twoSum(self, nums,target):\n",
    "        z = {}\n",
    "        for i,num in enumerate(nums):\n",
    "            diff = target - num\n",
    "            if diff in z:\n",
    "                return[i,z[diff]]\n",
    "            else:\n",
    "                z[num] = i"
   ]
  },
  {
   "cell_type": "markdown",
   "id": "f6f770f0",
   "metadata": {},
   "source": [
    "# 121. Best time to buy and sell stock"
   ]
  },
  {
   "cell_type": "code",
   "execution_count": 14,
   "id": "f51147b7",
   "metadata": {},
   "outputs": [],
   "source": [
    "import time\n",
    "class Solution:\n",
    "    def maxProfit(self, prices) -> int:\n",
    "        #corner case 1 to cover for empty list or list with only one element\n",
    "        if len(prices) <= 1:\n",
    "            return 0\n",
    "        left = prices[0]\n",
    "        right = prices[1]\n",
    "        max_profit = right - left\n",
    "        for i in range(1, len(prices)-1):\n",
    "            if prices[i] < left:\n",
    "                left = prices[i]\n",
    "                right = prices[i+1]\n",
    "            else:\n",
    "                right = prices[i+1]\n",
    "            diff = right - left\n",
    "            if max_profit < diff:\n",
    "                max_profit = diff\n",
    "        return max(max_profit,0) #corner case 2 to prevent max-profit from being negative"
   ]
  },
  {
   "cell_type": "markdown",
   "id": "4b80fce3",
   "metadata": {},
   "source": [
    "# 238. Product of Array Except Self"
   ]
  },
  {
   "cell_type": "code",
   "execution_count": 12,
   "id": "c1048836",
   "metadata": {},
   "outputs": [],
   "source": [
    "def productofarray(nums):\n",
    "    left, right, output = [], [], []\n",
    "    left.append(nums[0])\n",
    "    right.append(nums[-1])\n",
    "    length = len(nums)\n",
    "    for i in range(1, length):\n",
    "        left.append(left[i-1]*nums[i])\n",
    "    for i in range(length-1,0,-1):\n",
    "        right.insert(0,nums[i-1]*right[0])\n",
    "    print(left)\n",
    "    print(right)\n",
    "    output = []\n",
    "    for i in range(length):\n",
    "        if i == 0:\n",
    "            output.insert(i, right[i+1])\n",
    "        elif i == length-1:\n",
    "            output.insert(i, left[i-1])\n",
    "        else:\n",
    "            output.append(left[i-1]*right[i+1])\n",
    "    return output\n",
    "    "
   ]
  },
  {
   "cell_type": "markdown",
   "id": "33f031e7",
   "metadata": {},
   "source": [
    "# 53. Maximum subarray"
   ]
  },
  {
   "cell_type": "code",
   "execution_count": 31,
   "id": "a61c3be4",
   "metadata": {},
   "outputs": [],
   "source": [
    "#Kadane's algorithm\n",
    "def maximum_subarray(nums):\n",
    "    currSum = 0\n",
    "    maxSum = nums[0] #it prevents final sum from being 0 for e.g. in case nums = [-1]\n",
    "    for i in nums:\n",
    "        if currSum < 0:\n",
    "            currSum = 0\n",
    "        currSum += i\n",
    "        maxSum = max(maxSum, currSum)\n",
    "    return currSum"
   ]
  },
  {
   "cell_type": "markdown",
   "id": "60df161a",
   "metadata": {},
   "source": [
    "# 217. Contains duplicate"
   ]
  },
  {
   "cell_type": "code",
   "execution_count": 224,
   "id": "df340c47",
   "metadata": {},
   "outputs": [],
   "source": [
    "def check_duplicate(nums):\n",
    "    dict_out = {}\n",
    "    for i in nums:\n",
    "        if i in dict_out:\n",
    "            return True\n",
    "        else:\n",
    "            dict_out[i] = 1\n",
    "    return False"
   ]
  },
  {
   "cell_type": "markdown",
   "id": "d049d429",
   "metadata": {},
   "source": [
    "# 152. Maximum Product Subarray"
   ]
  },
  {
   "cell_type": "code",
   "execution_count": 30,
   "id": "1728955b",
   "metadata": {},
   "outputs": [],
   "source": [
    "def maxproduct_subarray(nums):\n",
    "    maxProd = max(nums)\n",
    "    currMin, currMax = 1,1\n",
    "    for i in nums:\n",
    "        if i == 0:\n",
    "            currMin, currMax = 1,1\n",
    "            continue\n",
    "        tmp = currMax\n",
    "        currMax = max(i*currMax, i*currMin, i)\n",
    "        currMin = min(i*tmp, i*currMin, i)\n",
    "        maxProd = max(currMax, maxProd)\n",
    "    return maxProd     "
   ]
  },
  {
   "cell_type": "markdown",
   "id": "f7f8734f",
   "metadata": {},
   "source": [
    "# 33. Search in Rotated Sorted Array"
   ]
  },
  {
   "cell_type": "code",
   "execution_count": 19,
   "id": "f28e690c",
   "metadata": {},
   "outputs": [],
   "source": [
    "left = 0\n",
    "pivot = left\n",
    "right = len(nums)-1\n",
    "if (nums[pivot] <= target) and (target <= right):\n",
    "    left = pivot\n",
    "else:\n",
    "    right = pivot\n",
    "while (left<=right):\n",
    "    mid = int((left+right)/2)\n",
    "    if nums[mid] == target:\n",
    "        print(True)\n",
    "    if nums[mid] < target:\n",
    "        left = mid + 1\n",
    "    else:\n",
    "        right = mid - 1"
   ]
  },
  {
   "cell_type": "markdown",
   "id": "ce2adc8c",
   "metadata": {},
   "source": [
    "# 15. 3 Sum"
   ]
  },
  {
   "cell_type": "code",
   "execution_count": 21,
   "id": "bbf366f0",
   "metadata": {},
   "outputs": [],
   "source": [
    "def threeSum(nums):\n",
    "    nums = sorted(nums)\n",
    "    output = []\n",
    "    for i in range(len(nums)):\n",
    "        if i>0 and nums[i] == nums[i-1]:\n",
    "            continue\n",
    "        l,r = i+1,len(nums)-1\n",
    "        while(l<r):\n",
    "            total_sum = nums[i] + nums[l] + nums[r]\n",
    "            if total_sum >0:\n",
    "                r -= 1\n",
    "            elif total_sum <0:\n",
    "                l += 1\n",
    "            else:\n",
    "                output.append([nums[i], nums[l], nums[r]])\n",
    "                l += 1\n",
    "                while nums[l] == nums[l-1] and l < r:\n",
    "                    l += 1\n",
    "    return output"
   ]
  },
  {
   "cell_type": "markdown",
   "id": "ee2be41a",
   "metadata": {},
   "source": [
    "# 11. Container With Most Water"
   ]
  },
  {
   "cell_type": "code",
   "execution_count": 28,
   "id": "67c66582",
   "metadata": {},
   "outputs": [],
   "source": [
    "def find_max_area(height):\n",
    "    max_area = 0\n",
    "    l = 0\n",
    "    r = len(height)-1\n",
    "    for i in range(len(height)):\n",
    "        area = (min(height[l],height[r])*(r-l))\n",
    "        max_area = max(area, max_area)\n",
    "        if height[r] < height[l]:\n",
    "            r -= 1\n",
    "        else:\n",
    "            l += 1   \n",
    "        if l == r:\n",
    "            break\n",
    "    return max_area"
   ]
  },
  {
   "cell_type": "code",
   "execution_count": null,
   "id": "e2603799",
   "metadata": {},
   "outputs": [],
   "source": []
  }
 ],
 "metadata": {
  "kernelspec": {
   "display_name": "Python 3 (ipykernel)",
   "language": "python",
   "name": "python3"
  },
  "language_info": {
   "codemirror_mode": {
    "name": "ipython",
    "version": 3
   },
   "file_extension": ".py",
   "mimetype": "text/x-python",
   "name": "python",
   "nbconvert_exporter": "python",
   "pygments_lexer": "ipython3",
   "version": "3.9.15"
  }
 },
 "nbformat": 4,
 "nbformat_minor": 5
}
