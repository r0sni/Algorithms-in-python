{
 "cells": [
  {
   "cell_type": "markdown",
   "id": "af558327",
   "metadata": {},
   "source": [
    "# 121. Best Time to Buy and Sell Stock"
   ]
  },
  {
   "cell_type": "code",
   "execution_count": 2,
   "id": "e811b169",
   "metadata": {},
   "outputs": [],
   "source": [
    "class Solution:\n",
    "    def maxProfit(self, prices) -> int:\n",
    "        if len(prices) <= 1:\n",
    "            return 0\n",
    "        lp = prices[0]\n",
    "        rp = prices[1]\n",
    "        maxProfit = rp-lp\n",
    "        for i in range(1, len(prices)-1):\n",
    "            if prices[i] < lp:\n",
    "                lp = prices[i]\n",
    "                rp = prices[i+1]\n",
    "            else:\n",
    "                rp = prices[i+1]\n",
    "            maxProfit = max(maxProfit, rp-lp)\n",
    "        return max(maxProfit,0)"
   ]
  },
  {
   "cell_type": "markdown",
   "id": "47978c25",
   "metadata": {},
   "source": [
    "# 3. Longest Substring Without Repeating Characters"
   ]
  },
  {
   "cell_type": "code",
   "execution_count": 3,
   "id": "7d0ca735",
   "metadata": {},
   "outputs": [],
   "source": [
    "class Solution:\n",
    "    def lengthOfLongestSubstring(self, s: str) -> int:\n",
    "        set_sub = set()\n",
    "        l = 0\n",
    "        maxLen = 0\n",
    "        for r in range(len(s)):\n",
    "            while s[r] in set_sub:\n",
    "                set_sub.remove(s[l])\n",
    "                l += 1\n",
    "            set_sub.add(s[r])\n",
    "            maxLen = max(maxLen, r-l+1)\n",
    "        return maxLen"
   ]
  },
  {
   "cell_type": "markdown",
   "id": "ed32cf76",
   "metadata": {},
   "source": [
    "# 76. Minimum Window Substring"
   ]
  },
  {
   "cell_type": "code",
   "execution_count": 4,
   "id": "50f36db9",
   "metadata": {},
   "outputs": [],
   "source": [
    "class Solution:\n",
    "    def minWindow(self, s: str, t: str) -> str:\n",
    "        if t == '': \n",
    "            return ''\n",
    "        countT, currT = {},{}\n",
    "        for i in t:\n",
    "            countT[i] = 1 + countT.get(i,0)\n",
    "        have, need = 0, len(countT)\n",
    "        out = [-1,-1]\n",
    "        outlen = float('infinity')\n",
    "        l = 0\n",
    "        for r in range(len(s)):\n",
    "            currT[s[r]] = 1 + currT.get(s[r], 0)\n",
    "            if s[r] in countT and currT[s[r]] == countT[s[r]]:\n",
    "                have += 1\n",
    "            while have == need:\n",
    "                if (r-l+1) < outlen:\n",
    "                    out = [l,r]\n",
    "                    outlen = r-l+1\n",
    "                currT[s[l]] -= 1\n",
    "                if s[l] in countT and currT[s[l]] < countT[s[l]]:\n",
    "                    have -= 1\n",
    "                l += 1\n",
    "        l,r = out\n",
    "        return s[l:r+1]"
   ]
  },
  {
   "cell_type": "markdown",
   "id": "ad55c4f8",
   "metadata": {},
   "source": [
    "# 1838. Frequency of the Most Frequent Element"
   ]
  },
  {
   "cell_type": "code",
   "execution_count": 5,
   "id": "389a540a",
   "metadata": {},
   "outputs": [],
   "source": [
    "class Solution:\n",
    "    def maxFrequency(self, nums, k: int) -> int:\n",
    "        l,r = 0,0\n",
    "        out = 0\n",
    "        nums = sorted(nums)\n",
    "        total = 0\n",
    "        while r < len(nums):\n",
    "            total += nums[r]\n",
    "            while (r-l+1)*nums[r] > total+k:\n",
    "                total -= nums[l]\n",
    "                l += 1\n",
    "            out = max(out,r-l+1)\n",
    "            r += 1\n",
    "        return out"
   ]
  },
  {
   "cell_type": "markdown",
   "id": "a7c836be",
   "metadata": {},
   "source": [
    "# 1888. Minimum Number of Flips to Make the Binary String Alternating"
   ]
  },
  {
   "cell_type": "code",
   "execution_count": 1,
   "id": "1209b91c",
   "metadata": {},
   "outputs": [],
   "source": [
    "class Solution:\n",
    "    def minFlips(self, s: str) -> int:\n",
    "        n = len(s)\n",
    "        s = s+s\n",
    "        first_alt, second_alt = '',''\n",
    "        for i in range(len(s)):\n",
    "            first_alt += '1' if i%2 == 0 else '0'\n",
    "            second_alt += '0' if i%2 == 0 else '1'\n",
    "\n",
    "        out = len(s)\n",
    "        diff1, diff2 = 0, 0\n",
    "        l = 0\n",
    "        for r in range(len(s)):\n",
    "            if s[r] != first_alt[r]:\n",
    "                diff1 += 1\n",
    "            if s[r] != second_alt[r]:\n",
    "                diff2 += 1\n",
    "            if (r-l+1) > n:\n",
    "                if s[l] != first_alt[l]:\n",
    "                    diff1 -= 1\n",
    "                if s[l] != second_alt[l]:\n",
    "                    diff2 -= 1\n",
    "                l += 1\n",
    "            if (r-l+1) == n:\n",
    "                out = min(out, diff1, diff2)\n",
    "        return out"
   ]
  },
  {
   "cell_type": "markdown",
   "id": "39c45966",
   "metadata": {},
   "source": [
    "# 567. Permutation in String"
   ]
  },
  {
   "cell_type": "code",
   "execution_count": 42,
   "id": "5fb9c5b5",
   "metadata": {},
   "outputs": [],
   "source": [
    "def checkInclusion(s1, s2):\n",
    "    s1_dict = {}\n",
    "    for i in s1:\n",
    "        s1_dict[i] = 1 + s1_dict.get(i,0)\n",
    "    n = len(s1)\n",
    "    l = 0\n",
    "    s2_dict = {}\n",
    "    print(s1_dict)\n",
    "    for r in range(len(s2)):\n",
    "        print(r)\n",
    "        if s2[r] in s1_dict:\n",
    "            s2_dict[s2[r]] = 1 + s2_dict.get(s2[r], 0)\n",
    "        print(l+n-1)\n",
    "        print(s2_dict)\n",
    "        if r == l+n-1:\n",
    "            if s1_dict == s2_dict:\n",
    "                return True\n",
    "            if s2[l] in s2_dict:\n",
    "                s2_dict[s2[l]] -= 1\n",
    "            l += 1 \n",
    "        print(s2_dict)\n",
    "        print()\n",
    "                \n",
    "    return False"
   ]
  },
  {
   "cell_type": "markdown",
   "id": "4090c1de",
   "metadata": {},
   "source": [
    "# 209. Minimum Size Subarray Sum"
   ]
  },
  {
   "cell_type": "code",
   "execution_count": 46,
   "id": "d409bbf9",
   "metadata": {},
   "outputs": [],
   "source": [
    "class Solution:\n",
    "    def minSubArrayLen(self, target: int, nums) -> int:\n",
    "        total = 0\n",
    "        out = float('infinity')\n",
    "        l = 0\n",
    "        for r in range(len(nums)):\n",
    "            total += nums[r]\n",
    "            while total >= target:\n",
    "                out = min(out, r-l+1)\n",
    "                total -= nums[l]\n",
    "                l += 1\n",
    "        return 0 if out == float('infinity') else out"
   ]
  },
  {
   "cell_type": "markdown",
   "id": "52148ad3",
   "metadata": {},
   "source": [
    "# 187. Repeated DNA Sequences"
   ]
  },
  {
   "cell_type": "code",
   "execution_count": 68,
   "id": "52ab1d07",
   "metadata": {},
   "outputs": [],
   "source": [
    "class Solution:\n",
    "    def findRepeatedDnaSequences(self, s: str):\n",
    "        out_dict = {}\n",
    "        l = 0\n",
    "        for r in range(10,len(s)+1):\n",
    "            out_dict[s[l:r]] = 1 + out_dict.get(s[l:r], 0)\n",
    "            l += 1\n",
    "        out = []\n",
    "        for i in out_dict.items():\n",
    "            if i[1] > 1:\n",
    "                out.append(i[0])\n",
    "        return out"
   ]
  },
  {
   "cell_type": "code",
   "execution_count": null,
   "id": "59e05e28",
   "metadata": {},
   "outputs": [],
   "source": []
  }
 ],
 "metadata": {
  "kernelspec": {
   "display_name": "Python 3 (ipykernel)",
   "language": "python",
   "name": "python3"
  },
  "language_info": {
   "codemirror_mode": {
    "name": "ipython",
    "version": 3
   },
   "file_extension": ".py",
   "mimetype": "text/x-python",
   "name": "python",
   "nbconvert_exporter": "python",
   "pygments_lexer": "ipython3",
   "version": "3.9.15"
  }
 },
 "nbformat": 4,
 "nbformat_minor": 5
}
