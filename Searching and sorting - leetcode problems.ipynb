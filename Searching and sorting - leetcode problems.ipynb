{
 "cells": [
  {
   "cell_type": "markdown",
   "id": "53fdc878",
   "metadata": {},
   "source": [
    "# 704. Binary Search"
   ]
  },
  {
   "cell_type": "code",
   "execution_count": 70,
   "id": "5c6d809b",
   "metadata": {},
   "outputs": [],
   "source": [
    "def binarysearch(nums, target):\n",
    "    l = 0\n",
    "    r = len(nums)-1\n",
    "    while (l<=r):\n",
    "        mid = l + (r-l)//2\n",
    "        print('l',l,'r',r,'mid',mid)\n",
    "        if nums[mid] < target:\n",
    "            l = mid+1\n",
    "        elif nums[mid] > target:\n",
    "            r = mid-1\n",
    "        else:\n",
    "            return mid\n",
    "    else:\n",
    "        return -1"
   ]
  },
  {
   "cell_type": "markdown",
   "id": "080a2a05",
   "metadata": {},
   "source": [
    "# 33. Search in Rotated Sorted Array"
   ]
  },
  {
   "cell_type": "code",
   "execution_count": 22,
   "id": "e32f440d",
   "metadata": {},
   "outputs": [],
   "source": [
    "def search(nums,target):\n",
    "    l = 0\n",
    "    r = len(nums)-1\n",
    "    while (l<=r):\n",
    "        mid = l + (r-l)//2\n",
    "        if nums[mid] < target and nums[-1] > target:\n",
    "            l = mid+1\n",
    "            continue\n",
    "        elif nums[mid] > target and nums[0] < target:\n",
    "            r = mid -1\n",
    "            continue\n",
    "        elif nums[mid] == target:\n",
    "            return mid\n",
    "        elif nums[l] == target:\n",
    "            return l\n",
    "        elif nums[r] == target:\n",
    "            return r\n",
    "        l = l+1\n",
    "        r = r-1\n",
    "        print('mid', nums[mid])\n",
    "        print('l', nums[l])\n",
    "        print('r', nums[r])\n",
    "    else:\n",
    "        return -1\n",
    "        "
   ]
  },
  {
   "cell_type": "markdown",
   "id": "60f4cc2b",
   "metadata": {},
   "source": [
    "# 378. Kth Smallest Element in a Sorted Matrix"
   ]
  },
  {
   "cell_type": "code",
   "execution_count": 1,
   "id": "511ae72f",
   "metadata": {},
   "outputs": [],
   "source": [
    "def smallest_element(maxtrix, k):\n",
    "    count = 0\n",
    "    l = []\n",
    "    for i in range(len(matrix)):\n",
    "        if count > k:\n",
    "            if i > 0 and matrix[i][0] < matrix[i-1][-1]:\n",
    "                l.extend(matrix[i])\n",
    "                count += len(matrix[i])\n",
    "        else:\n",
    "            l.extend(matrix[i])\n",
    "            count += len(matrix[i])\n",
    "    l.sort()\n",
    "    return l[k-1]\n",
    "        "
   ]
  },
  {
   "cell_type": "markdown",
   "id": "59fcbaeb",
   "metadata": {},
   "source": [
    "# 74. Search a 2D Matrix"
   ]
  },
  {
   "cell_type": "code",
   "execution_count": 126,
   "id": "d4d77fb0",
   "metadata": {},
   "outputs": [],
   "source": [
    "def search_matrix(matrix, target):\n",
    "    for i in matrix:\n",
    "        if i[0] <= target and i[-1] >= target:\n",
    "            l = 0\n",
    "            r = len(i)-1\n",
    "            for j in range(len(i)):\n",
    "                mid = l + (r-l)//2\n",
    "                if i[mid] < target:\n",
    "                    l = mid + 1\n",
    "                elif i[mid] > target:\n",
    "                    r = mid - 1\n",
    "            else:\n",
    "                return True"
   ]
  },
  {
   "cell_type": "markdown",
   "id": "235a0a23",
   "metadata": {},
   "source": [
    "# 153. Find Minimum in Rotated Sorted Array"
   ]
  },
  {
   "cell_type": "code",
   "execution_count": 213,
   "id": "51467a27",
   "metadata": {},
   "outputs": [],
   "source": [
    "class Solution:\n",
    "    def findMin(self, nums) -> int:\n",
    "        if len(nums) == 1:\n",
    "            return nums[0]\n",
    "        \n",
    "        l = 0\n",
    "        r = len(nums)-1\n",
    "        res = float('infinity')\n",
    "        while(l<r):\n",
    "            if nums[l] < nums[r]:\n",
    "                return min(res,nums[l])\n",
    "            else:\n",
    "                mid = l + (r-l)//2\n",
    "                if nums[mid] >= nums[l]:\n",
    "                    l = mid+1\n",
    "                    res = nums[l]\n",
    "                elif nums[mid] <= nums[r]:\n",
    "                    r = mid-1\n",
    "                    res = nums[mid]\n",
    "        return res"
   ]
  },
  {
   "cell_type": "markdown",
   "id": "e7728b2a",
   "metadata": {},
   "source": [
    "# 154. Find Minimum in Rotated Sorted Array II"
   ]
  },
  {
   "cell_type": "code",
   "execution_count": 247,
   "id": "680b9fd6",
   "metadata": {},
   "outputs": [],
   "source": [
    "nums = [2,2,2,0,1]\n",
    "nums = [1,3,5]"
   ]
  },
  {
   "cell_type": "code",
   "execution_count": 2,
   "id": "db69bbca",
   "metadata": {},
   "outputs": [],
   "source": [
    "def minimum_element(nums):\n",
    "    l = 0\n",
    "    r = len(nums) - 1\n",
    "    res = float('infinity')\n",
    "    while (l<=r):\n",
    "        mid = l + (r-l)//2\n",
    "        if nums[mid] >= nums[l]:\n",
    "            res = min(res, nums[l])\n",
    "            l = mid + 1\n",
    "        elif nums[mid] <= nums[r]:\n",
    "            res = min(res, nums[mid])\n",
    "            r = mid - 1\n",
    "    return res       "
   ]
  },
  {
   "cell_type": "markdown",
   "id": "15f0ed98",
   "metadata": {},
   "source": [
    "# 4. Median of Two Sorted Arrays"
   ]
  },
  {
   "cell_type": "code",
   "execution_count": 168,
   "id": "6125a8f6",
   "metadata": {},
   "outputs": [],
   "source": [
    "class Solution:\n",
    "    def findMedianSortedArrays(self, nums1, nums2) -> float:\n",
    "        nums1.extend(nums2)\n",
    "        n = len(nums1)\n",
    "        for i in range(n):\n",
    "            while i>0:\n",
    "                if nums1[i-1] > nums1[i]:\n",
    "                    temp = nums1[i-1]\n",
    "                    nums1[i-1] = nums1[i]\n",
    "                    nums1[i] = temp\n",
    "                i -= 1\n",
    "        if n%2 == 0:\n",
    "            med = (nums1[n//2] + nums1[n//2 -1])/2\n",
    "        else:\n",
    "            med = nums1[n//2]\n",
    "        return round(med,5)"
   ]
  },
  {
   "cell_type": "code",
   "execution_count": null,
   "id": "2e6414b9",
   "metadata": {},
   "outputs": [],
   "source": []
  }
 ],
 "metadata": {
  "kernelspec": {
   "display_name": "Python 3 (ipykernel)",
   "language": "python",
   "name": "python3"
  },
  "language_info": {
   "codemirror_mode": {
    "name": "ipython",
    "version": 3
   },
   "file_extension": ".py",
   "mimetype": "text/x-python",
   "name": "python",
   "nbconvert_exporter": "python",
   "pygments_lexer": "ipython3",
   "version": "3.9.15"
  }
 },
 "nbformat": 4,
 "nbformat_minor": 5
}
