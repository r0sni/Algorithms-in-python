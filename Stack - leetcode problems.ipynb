{
 "cells": [
  {
   "cell_type": "markdown",
   "id": "2e320498",
   "metadata": {},
   "source": [
    "# 20. Valid Parentheses"
   ]
  },
  {
   "cell_type": "code",
   "execution_count": 5,
   "id": "c1e750e8",
   "metadata": {},
   "outputs": [],
   "source": [
    "class Solution:\n",
    "    def isValid(self, s: str) -> bool:\n",
    "        brackets = {'(':')', '{':'}', '[':']'}\n",
    "        out = []\n",
    "        for i in s:\n",
    "            if i in brackets.values():\n",
    "                if out == []:\n",
    "                    return False\n",
    "                else:\n",
    "                    if brackets[out[-1]] == i:\n",
    "                        out.pop()\n",
    "            else:\n",
    "                out.append(i)\n",
    "        return True if out == [] else False\n",
    "                    "
   ]
  },
  {
   "cell_type": "markdown",
   "id": "7033828b",
   "metadata": {},
   "source": [
    "# 71. Simplify Path"
   ]
  },
  {
   "cell_type": "code",
   "execution_count": 1,
   "id": "b1527eef",
   "metadata": {},
   "outputs": [],
   "source": [
    "class Solution:\n",
    "    def simplifyPath(self, path: str) -> str:\n",
    "        items = path.split('/')\n",
    "        out = []\n",
    "        for item in items:\n",
    "            if item == '' or item == '.':\n",
    "                continue\n",
    "            elif item == '..':\n",
    "                if out:\n",
    "                    out.pop()\n",
    "            else:\n",
    "                out.append(item)\n",
    "        return '/' + '/'.join(out)"
   ]
  },
  {
   "cell_type": "markdown",
   "id": "5c686b28",
   "metadata": {},
   "source": [
    "# 84. Largest Rectangle in Histogram"
   ]
  },
  {
   "cell_type": "code",
   "execution_count": 187,
   "id": "af2f9fc2",
   "metadata": {},
   "outputs": [],
   "source": [
    "class Solution:\n",
    "    def largestRectangleArea(self, heights) -> int:\n",
    "        maxArea = 0\n",
    "        stack = []\n",
    "        for i,h in enumerate(heights):\n",
    "            start = i\n",
    "            while stack and (stack[-1][1]) > h:\n",
    "                index, height = stack.pop()\n",
    "                maxArea = max(maxArea, height*(i-index))\n",
    "                start = index\n",
    "            stack.append((start,h))\n",
    "        \n",
    "        for i,h in stack:\n",
    "            maxArea = max(maxArea, (len(heights)-i)*h)         \n",
    "        return maxArea"
   ]
  },
  {
   "cell_type": "markdown",
   "id": "4f6c4ff0",
   "metadata": {},
   "source": [
    "# 22. Generate Parentheses"
   ]
  },
  {
   "cell_type": "code",
   "execution_count": 194,
   "id": "95586e1f",
   "metadata": {},
   "outputs": [],
   "source": [
    "class Solution:\n",
    "    def generateParenthesis(self, n: int):\n",
    "        out = []\n",
    "        def backtrack(openN,closeN,stack):\n",
    "            if openN == closeN == n:\n",
    "                out.append(stack)\n",
    "                return\n",
    "            if openN < n:\n",
    "                backtrack(openN+1,closeN,stack+'(')\n",
    "            if closeN < openN:\n",
    "                backtrack(openN,closeN+1,stack+')')\n",
    "        backtrack(0,0,'')\n",
    "        return out"
   ]
  },
  {
   "cell_type": "markdown",
   "id": "1ca87790",
   "metadata": {},
   "source": [
    "# 155. Min Stack"
   ]
  },
  {
   "cell_type": "code",
   "execution_count": 195,
   "id": "04ea78c7",
   "metadata": {},
   "outputs": [],
   "source": [
    "#Runs in O(1) time\n",
    "class MinStack:\n",
    "\n",
    "    def __init__(self):\n",
    "        self.stack = []\n",
    "        self.min_val = []\n",
    "        \n",
    "    def push(self, val: int) -> None:\n",
    "        self.stack.append(val)\n",
    "        if self.min_val == []:\n",
    "            self.min_val.append(val)\n",
    "        else:\n",
    "            if val < self.min_val[-1]:\n",
    "                self.min_val.append(val)\n",
    "            else:\n",
    "                self.min_val.append(self.min_val[-1])\n",
    "        \n",
    "    def pop(self) -> None:\n",
    "        self.stack.pop()\n",
    "        self.min_val.pop()\n",
    "        \n",
    "    def top(self) -> int:\n",
    "        return self.stack[-1]  \n",
    "\n",
    "    def getMin(self) -> int:\n",
    "        return self.min_val[-1]"
   ]
  },
  {
   "cell_type": "markdown",
   "id": "ffb61480",
   "metadata": {},
   "source": [
    "# 739. Daily Temperatures"
   ]
  },
  {
   "cell_type": "code",
   "execution_count": 215,
   "id": "59a4a9d7",
   "metadata": {},
   "outputs": [],
   "source": [
    "class Solution:\n",
    "    def dailyTemperatures(self, temperatures):\n",
    "        answer = [0 for i in range(len(temperatures))]\n",
    "        stack = []\n",
    "        for i in range(len(temperatures)):\n",
    "            if not stack:\n",
    "                stack.append((i,temperatures[i]))\n",
    "            else:\n",
    "                while stack and stack[-1][1] < temperatures[i]:\n",
    "                    index, temp = stack.pop()\n",
    "                    answer[index] = i-index\n",
    "                stack.append((i,temperatures[i]))\n",
    "        for i, val in stack:\n",
    "            answer[i] = 0\n",
    "        return answer"
   ]
  },
  {
   "cell_type": "markdown",
   "id": "8c1f0cc1",
   "metadata": {},
   "source": [
    "# 496. Next Greater Element I"
   ]
  },
  {
   "cell_type": "code",
   "execution_count": 220,
   "id": "16d204be",
   "metadata": {},
   "outputs": [],
   "source": [
    "class Solution:\n",
    "    def nextGreaterElement(self, nums1, nums2):\n",
    "        nums = [-1 for i in range(len(nums2))]\n",
    "        stack = []\n",
    "        for i in range(len(nums2)):\n",
    "            if not stack:\n",
    "                stack.append((i,nums2[i]))\n",
    "            else:\n",
    "                while stack and stack[-1][1] < nums2[i]:\n",
    "                    ind,val = stack.pop()\n",
    "                    nums[ind] = nums2[i]\n",
    "                stack.append((i,nums2[i]))\n",
    "        out = []\n",
    "        for i in nums1:\n",
    "            out.append(nums[nums2.index(i)])\n",
    "        return out"
   ]
  },
  {
   "cell_type": "markdown",
   "id": "b78323c7",
   "metadata": {},
   "source": [
    "# 503. Next Greater Element II"
   ]
  },
  {
   "cell_type": "code",
   "execution_count": 224,
   "id": "f01308f8",
   "metadata": {},
   "outputs": [],
   "source": [
    "class Solution:\n",
    "    def nextGreaterElements(self, nums):\n",
    "        n = len(nums)\n",
    "        ans = [-1 for i in range(n)]\n",
    "        stack = []\n",
    "        for i in range(n):\n",
    "            while stack and nums[stack[-1]] < nums[i]:\n",
    "                val = stack.pop()\n",
    "                ans[val] = nums[i]\n",
    "            stack.append(i)\n",
    "\n",
    "        for i in range(n): #check the left part now\n",
    "            while stack and nums[stack[-1]] < nums[i]:\n",
    "                val = stack.pop()\n",
    "                ans[val] = nums[i]\n",
    "            stack.append(i)\n",
    "        return ans"
   ]
  },
  {
   "cell_type": "markdown",
   "id": "25b0bafc",
   "metadata": {},
   "source": [
    "# 556. Next Greater Element III"
   ]
  },
  {
   "cell_type": "code",
   "execution_count": 2,
   "id": "d5ff10c6",
   "metadata": {},
   "outputs": [],
   "source": [
    "class Solution:\n",
    "    def nextGreaterElement(self, n: int) -> int:\n",
    "        nums = list(map(int, str(n)))\n",
    "        indx1 = len(nums) - 2\n",
    "        while indx1>=0 and nums[indx1]>=nums[indx1+1]: #if all the numbers are in descending order\n",
    "            indx1 -= 1                                 #It cannot be changed to greater number\n",
    "        if indx1 == -1:\n",
    "            return -1\n",
    "        \n",
    "        indx2 = len(nums)-1\n",
    "        while nums[indx2] <= nums[indx1]:\n",
    "            indx2 -= 1\n",
    "        nums[indx1], nums[indx2] = nums[indx2], nums[indx1]\n",
    "\n",
    "        nums[indx1+1:] = reversed(nums[indx1+1:])\n",
    "\n",
    "        res = ''\n",
    "        for i in nums:\n",
    "            res += str(i)\n",
    "        res = int(res)\n",
    "        return res if res < 2**31 else -1 #to check for number less than or equal 32 bit"
   ]
  },
  {
   "cell_type": "markdown",
   "id": "3870d5ba",
   "metadata": {},
   "source": [
    "# 735. Asteroid Collision"
   ]
  },
  {
   "cell_type": "code",
   "execution_count": 4,
   "id": "6cade1fb",
   "metadata": {},
   "outputs": [],
   "source": [
    "class Solution:\n",
    "    def asteroidCollision(self, asteroids):\n",
    "        res = []\n",
    "        for i in asteroids:\n",
    "            while res and i <0 and res[-1] >0:\n",
    "                diff = i + res[-1]\n",
    "                if diff < 0:\n",
    "                    res.pop()\n",
    "                elif diff>0:\n",
    "                    i = 0\n",
    "                else:\n",
    "                    res.pop()\n",
    "                    i = 0\n",
    "            if i != 0:\n",
    "                res.append(i)\n",
    "        return res\n",
    "        "
   ]
  },
  {
   "cell_type": "markdown",
   "id": "8b3180b0",
   "metadata": {},
   "source": [
    "# 1856. Maximum Subarray Min-Product"
   ]
  },
  {
   "cell_type": "code",
   "execution_count": 5,
   "id": "9df44976",
   "metadata": {},
   "outputs": [],
   "source": [
    "class Solution:\n",
    "    def maxSumMinProduct(self, nums) -> int:\n",
    "        max_val = 0\n",
    "        stack = []\n",
    "        prefix = [0]\n",
    "        for n in nums:\n",
    "            prefix.append(prefix[-1]+n)\n",
    "\n",
    "        for i,n in enumerate(nums):\n",
    "            startindex = i\n",
    "            while stack and stack[-1][1] > n:\n",
    "                index,val = stack.pop()\n",
    "                total = prefix[i] - prefix[index]\n",
    "                max_val = max(max_val, total*val)\n",
    "                startindex = index\n",
    "            stack.append((startindex,n))\n",
    "\n",
    "        for i,n in stack:\n",
    "            max_val = max(max_val, (prefix[len(nums)] - prefix[i])*n) \n",
    "\n",
    "        return max_val%(10**9+7)"
   ]
  },
  {
   "cell_type": "markdown",
   "id": "3f807fdf",
   "metadata": {},
   "source": [
    "# 853. Car Fleet"
   ]
  },
  {
   "cell_type": "code",
   "execution_count": 10,
   "id": "d14a68fd",
   "metadata": {},
   "outputs": [],
   "source": [
    "class Solution:\n",
    "    def carFleet(self, target: int, position, speed):\n",
    "        pairs = [[p,s] for p,s in zip(position, speed)]\n",
    "        pairs = sorted(pairs)[::-1]\n",
    "        stacks = []\n",
    "        for p,s in pairs:\n",
    "            time_taken = (target-p)/s\n",
    "            stacks.append(time_taken)\n",
    "            if len(stacks) >= 2 and stacks[-1] <= stacks[-2]:\n",
    "                stacks.pop() #cars will collide if the car behind it will reach destination in shorter time than it\n",
    "        return len(stacks)"
   ]
  },
  {
   "cell_type": "markdown",
   "id": "5e37661b",
   "metadata": {},
   "source": [
    "# 225. Implement Stack using Queues"
   ]
  },
  {
   "cell_type": "code",
   "execution_count": 11,
   "id": "f62685ab",
   "metadata": {},
   "outputs": [],
   "source": [
    "class MyStack:\n",
    "\n",
    "    def __init__(self):\n",
    "        self.q = deque()\n",
    "        \n",
    "    def push(self, x: int) -> None:\n",
    "        self.q.append(x)\n",
    "\n",
    "    def pop(self) -> int:\n",
    "        for i in range(len(self.q)-1):\n",
    "            self.q.append(self.q.popleft())\n",
    "        return self.q.popleft()\n",
    "\n",
    "    def top(self) -> int:\n",
    "        return self.q[-1]\n",
    "        \n",
    "    def empty(self) -> bool:\n",
    "        return (len(self.q) == 0)"
   ]
  },
  {
   "cell_type": "markdown",
   "id": "9ab9aa09",
   "metadata": {},
   "source": [
    "# 232. Implement Queue using Stacks"
   ]
  },
  {
   "cell_type": "code",
   "execution_count": 12,
   "id": "614c7f81",
   "metadata": {},
   "outputs": [],
   "source": [
    "class MyQueue:\n",
    "\n",
    "    def __init__(self):\n",
    "        self.s = []\n",
    "        \n",
    "    def push(self, x: int) -> None:\n",
    "        self.s.append(x)\n",
    "        \n",
    "    def pop(self) -> int:\n",
    "        return self.s.pop(0)\n",
    "        \n",
    "    def peek(self) -> int:\n",
    "        return self.s[0]\n",
    "        \n",
    "    def empty(self) -> bool:\n",
    "        return (len(self.s) == 0)"
   ]
  },
  {
   "cell_type": "markdown",
   "id": "471e721d",
   "metadata": {},
   "source": [
    "# 901. Online Stock Span"
   ]
  },
  {
   "cell_type": "code",
   "execution_count": 14,
   "id": "88e95ad1",
   "metadata": {},
   "outputs": [],
   "source": [
    "class StockSpanner:\n",
    "    def __init__(self):\n",
    "        self.s = []\n",
    "        \n",
    "    def next(self, price: int) -> int:\n",
    "        span = 1\n",
    "        while self.s and self.s[-1][0] <= price:\n",
    "            span += self.s[-1][1]\n",
    "            self.s.pop()\n",
    "        self.s.append((price,span))\n",
    "        return span"
   ]
  },
  {
   "cell_type": "markdown",
   "id": "793c9a4d",
   "metadata": {},
   "source": [
    "# 150. Evaluate Reverse Polish Notation"
   ]
  },
  {
   "cell_type": "code",
   "execution_count": 15,
   "id": "03d9657a",
   "metadata": {},
   "outputs": [],
   "source": [
    "class Solution:\n",
    "    def evalRPN(self, tokens) -> int:\n",
    "        stack = []\n",
    "        operators = ['+', '-', '*', '/']\n",
    "        for i in tokens:\n",
    "            if i == '-':\n",
    "                res = stack[-2] - stack[-1]\n",
    "                stack.pop()\n",
    "                stack.pop()\n",
    "                stack.append(res)\n",
    "            elif i == '*':\n",
    "                res = stack[-2]*stack[-1]\n",
    "                stack.pop()\n",
    "                stack.pop()\n",
    "                stack.append(res)\n",
    "            elif i == '+':\n",
    "                res = stack[-2]+stack[-1]\n",
    "                stack.pop()\n",
    "                stack.pop()\n",
    "                stack.append(res)\n",
    "            elif i == '/':\n",
    "                res = int(stack[-2]/stack[-1])\n",
    "                stack.pop()\n",
    "                stack.pop()\n",
    "                stack.append(res)\n",
    "            else:\n",
    "                stack.append(float(i))\n",
    "        return int(stack[0])"
   ]
  },
  {
   "cell_type": "markdown",
   "id": "b050ea57",
   "metadata": {},
   "source": [
    "# 402. Remove K Digits"
   ]
  },
  {
   "cell_type": "code",
   "execution_count": 16,
   "id": "df209119",
   "metadata": {},
   "outputs": [],
   "source": [
    "class Solution:\n",
    "    def removeKdigits(self, num: str, k: int) -> str:\n",
    "        stack = []\n",
    "        for i in num:\n",
    "            while stack and k>0 and int(stack[-1]) > int(i):\n",
    "                stack.pop()\n",
    "                k -= 1\n",
    "            stack.append(i)\n",
    "        stack = stack[:len(stack)-k] #for remaining k if stack is in ascending order, remove right most numbers\n",
    "        out = ''.join(stack)\n",
    "        return str(int(out)) if out else '0'"
   ]
  },
  {
   "cell_type": "markdown",
   "id": "507bee2f",
   "metadata": {},
   "source": [
    "# 895. Maximum Frequency Stack"
   ]
  },
  {
   "cell_type": "code",
   "execution_count": 17,
   "id": "76dcb399",
   "metadata": {},
   "outputs": [],
   "source": [
    "class FreqStack:\n",
    "\n",
    "    def __init__(self):\n",
    "        self.cnt = {}\n",
    "        self.maxcnt = 0\n",
    "        self.stacks = {}\n",
    "        \n",
    "    def push(self, val: int) -> None:\n",
    "        valcnt = 1 + self.cnt.get(val, 0)\n",
    "        if valcnt > self.maxcnt:\n",
    "            self.maxcnt = valcnt\n",
    "            self.stacks[valcnt] = []\n",
    "        self.stacks[valcnt].append(val)\n",
    "        self.cnt[val] = valcnt\n",
    "        \n",
    "    def pop(self) -> int:\n",
    "        res = self.stacks[self.maxcnt].pop()\n",
    "        self.cnt[res] -= 1\n",
    "        if not self.stacks[self.maxcnt]:\n",
    "            self.maxcnt -= 1\n",
    "        return res"
   ]
  },
  {
   "cell_type": "markdown",
   "id": "c52e328b",
   "metadata": {},
   "source": [
    "# 682. Baseball Game"
   ]
  },
  {
   "cell_type": "code",
   "execution_count": 18,
   "id": "bd7c8a37",
   "metadata": {},
   "outputs": [],
   "source": [
    "class Solution:\n",
    "    def calPoints(self, operations) -> int:\n",
    "        stack = []\n",
    "        for i in operations:\n",
    "            if i == '+':\n",
    "                stack.append(stack[-2]+stack[-1])\n",
    "            elif i == 'D':\n",
    "                stack.append(2*stack[-1])\n",
    "            elif i == 'C':\n",
    "                stack.pop()\n",
    "            else:\n",
    "                stack.append(int(i))\n",
    "        return sum(stack)"
   ]
  },
  {
   "cell_type": "markdown",
   "id": "184ff9f5",
   "metadata": {},
   "source": [
    "# 1047. Remove All Adjacent Duplicates In String"
   ]
  },
  {
   "cell_type": "code",
   "execution_count": 19,
   "id": "c7950dc6",
   "metadata": {},
   "outputs": [],
   "source": [
    "class Solution:\n",
    "    def removeDuplicates(self, s: str) -> str:\n",
    "        stack = []\n",
    "        for i in s:\n",
    "            if stack and stack[-1] == i:\n",
    "                stack.pop()\n",
    "            else:\n",
    "                stack.append(i)\n",
    "        return ''.join(stack)"
   ]
  },
  {
   "cell_type": "markdown",
   "id": "2b95b8fc",
   "metadata": {},
   "source": [
    "# 1209. Remove All Adjacent Duplicates in String II"
   ]
  },
  {
   "cell_type": "code",
   "execution_count": 20,
   "id": "44915dcd",
   "metadata": {},
   "outputs": [],
   "source": [
    "class Solution:\n",
    "    def removeDuplicates(self, s: str, k: int) -> str:\n",
    "        stack = []\n",
    "        for i in s:\n",
    "            if stack and stack[-1][0] == i:\n",
    "                stack[-1][1] += 1\n",
    "            else:\n",
    "                stack.append([i,1])\n",
    "            if stack[-1][1] == k:\n",
    "                stack.pop()\n",
    "        out = ''\n",
    "        for i,count in stack:\n",
    "            out += i*count\n",
    "        return out"
   ]
  },
  {
   "cell_type": "markdown",
   "id": "d5bafd28",
   "metadata": {},
   "source": [
    "# 1910. Remove All Occurrences of a Substring"
   ]
  },
  {
   "cell_type": "code",
   "execution_count": 21,
   "id": "5ce9084e",
   "metadata": {},
   "outputs": [],
   "source": [
    "class Solution:\n",
    "    def removeOccurrences(self, s: str, part: str) -> str:\n",
    "        while part in s:\n",
    "            s = s[:s.index(part)] + s[s.index(part)+len(part):]\n",
    "        return s"
   ]
  },
  {
   "cell_type": "markdown",
   "id": "5eb7e71d",
   "metadata": {},
   "source": [
    "# 456. 132 Pattern"
   ]
  },
  {
   "cell_type": "code",
   "execution_count": 25,
   "id": "8cc72777",
   "metadata": {},
   "outputs": [],
   "source": [
    "def Pattern(nums):\n",
    "    stack = []\n",
    "    minVal = nums[0]\n",
    "    for n in nums[1:]:\n",
    "        while stack and stack[-1][0] <= n:\n",
    "            stack.pop()\n",
    "        if stack and stack[-1][1] < n:\n",
    "            return True\n",
    "        minVal = min(minVal,n)\n",
    "        stack.append([n,minVal])\n",
    "    return False"
   ]
  },
  {
   "cell_type": "markdown",
   "id": "2806d8b2",
   "metadata": {},
   "source": [
    "# 239. Sliding Window Maximum"
   ]
  },
  {
   "cell_type": "code",
   "execution_count": 7,
   "id": "d92ef3aa",
   "metadata": {},
   "outputs": [],
   "source": [
    "import collections"
   ]
  },
  {
   "cell_type": "code",
   "execution_count": 8,
   "id": "dc6d5ca5",
   "metadata": {},
   "outputs": [],
   "source": [
    "def maxSlidingWindow(nums, k: int):\n",
    "    q = collections.deque()\n",
    "    l,r = 0,0\n",
    "    out = []\n",
    "    while r < len(nums):\n",
    "        print('q', q)\n",
    "        while q and nums[q[-1]]<nums[r]:\n",
    "            q.pop()\n",
    "        print('After pop', q)\n",
    "        q.append(r)\n",
    "        if l > q[0]:\n",
    "            q.popleft()\n",
    "        print('After left pop', q)\n",
    "        if r+1 >= k:\n",
    "            out.append(nums[q[0]])\n",
    "            l += 1\n",
    "        r += 1\n",
    "    return out"
   ]
  },
  {
   "cell_type": "code",
   "execution_count": null,
   "id": "1396f3a4",
   "metadata": {},
   "outputs": [],
   "source": []
  }
 ],
 "metadata": {
  "kernelspec": {
   "display_name": "Python 3 (ipykernel)",
   "language": "python",
   "name": "python3"
  },
  "language_info": {
   "codemirror_mode": {
    "name": "ipython",
    "version": 3
   },
   "file_extension": ".py",
   "mimetype": "text/x-python",
   "name": "python",
   "nbconvert_exporter": "python",
   "pygments_lexer": "ipython3",
   "version": "3.9.15"
  }
 },
 "nbformat": 4,
 "nbformat_minor": 5
}
