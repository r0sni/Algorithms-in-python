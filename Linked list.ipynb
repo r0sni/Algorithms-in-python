{
 "cells": [
  {
   "cell_type": "markdown",
   "id": "f83829d7",
   "metadata": {},
   "source": [
    "# Singly linked list"
   ]
  },
  {
   "cell_type": "code",
   "execution_count": 1,
   "id": "5b979ab5",
   "metadata": {},
   "outputs": [],
   "source": [
    "class Node():\n",
    "    def __init__(self,val):\n",
    "        self.val = val\n",
    "        self.next = None  "
   ]
  },
  {
   "cell_type": "code",
   "execution_count": 2,
   "id": "1ad489c2",
   "metadata": {},
   "outputs": [],
   "source": [
    "class Linkedlist():\n",
    "    def __init__(self, head=None):\n",
    "        self.head = None\n",
    "        self.count = 0\n",
    "        \n",
    "    def insert(self,data):\n",
    "        new_node = Node(data)\n",
    "        curr = self.head\n",
    "        if curr == None:\n",
    "            self.head = new_node\n",
    "            return\n",
    "        else:\n",
    "            while curr.next:\n",
    "                curr = curr.next\n",
    "            curr.next = new_node\n",
    "        self.count += 1\n",
    "        \n",
    "    def find(self,data):\n",
    "        item = self.head\n",
    "        while item.val != None:\n",
    "            if item.val == data:\n",
    "                return item\n",
    "            else:\n",
    "                item = item.next\n",
    "        return None\n",
    "    \n",
    "    def print_linkedlist(self):\n",
    "        lst = []\n",
    "        item = self.head\n",
    "        while item != None:\n",
    "            lst.append(item.val)\n",
    "            item = item.next\n",
    "        return lst\n",
    "    \n",
    "    def remove(self,data):\n",
    "        current = self.head\n",
    "        previous = None\n",
    "        while current is not None:\n",
    "            if current.val == data:\n",
    "                break\n",
    "            previous = current\n",
    "            current = current.next\n",
    "            \n",
    "        if current is None:\n",
    "            raise ValueError(f\"{data} is not in the list\")\n",
    "        if previous is None:\n",
    "            self.head = current.next\n",
    "            self.count -= 1\n",
    "        else:\n",
    "            previous.next = current.next\n",
    "            self.count -= 1\n",
    "            \n",
    "    def get_count(self):\n",
    "        return self.count\n",
    "    \n",
    "    def is_empty(self):\n",
    "        return self.head == None"
   ]
  },
  {
   "cell_type": "markdown",
   "id": "eed7cb73",
   "metadata": {},
   "source": [
    "# 206. Reverse Linked List"
   ]
  },
  {
   "cell_type": "code",
   "execution_count": 1,
   "id": "098f17d2",
   "metadata": {},
   "outputs": [],
   "source": [
    "def reverse_ll(ll):\n",
    "    curr = ll.head\n",
    "    prev = None\n",
    "    while curr is not None:\n",
    "        temp = curr.next\n",
    "        curr.next = prev\n",
    "        prev = curr\n",
    "        curr = temp\n",
    "    ll.head = prev\n",
    "    return ll"
   ]
  },
  {
   "cell_type": "markdown",
   "id": "7f922125",
   "metadata": {},
   "source": [
    "# 143. Reorder List"
   ]
  },
  {
   "cell_type": "code",
   "execution_count": 2,
   "id": "fc5d36c7",
   "metadata": {},
   "outputs": [],
   "source": [
    "def reorder_list(ll):\n",
    "    #Divide into two\n",
    "    slow = ll.head\n",
    "    fast = ll.head.next\n",
    "    while fast and fast.next:\n",
    "        slow = slow.next\n",
    "        fast = fast.next.next\n",
    "    second = slow.next\n",
    "    #Break the list into half\n",
    "    slow.next = None\n",
    "    #Reverse the second half\n",
    "    prev = None\n",
    "    while second:\n",
    "        temp = second.next\n",
    "        second.next = prev\n",
    "        prev = second\n",
    "        second = temp\n",
    "    #merge two lists\n",
    "    first,second = ll.head, prev\n",
    "    while second:\n",
    "        tmp1,tmp2 = first.next, second.next\n",
    "        first.next = second\n",
    "        second.next = tmp1\n",
    "        first,second = tmp1,tmp2\n",
    "    return ll"
   ]
  },
  {
   "cell_type": "markdown",
   "id": "2e8e417e",
   "metadata": {},
   "source": [
    "# 234. Palindrome Linked List"
   ]
  },
  {
   "cell_type": "code",
   "execution_count": 19,
   "id": "d8e5c401",
   "metadata": {},
   "outputs": [],
   "source": [
    "def is_palindrom(ll):\n",
    "    rev = []\n",
    "    curr = ll.head\n",
    "    while curr:\n",
    "        rev.append(curr.val)\n",
    "        curr = curr.next\n",
    "        \n",
    "    curr = ll.head\n",
    "    while curr:\n",
    "        if curr.val != rev.pop():\n",
    "            return False\n",
    "        curr = curr.next\n",
    "    return True\n",
    "        "
   ]
  },
  {
   "cell_type": "markdown",
   "id": "62839abe",
   "metadata": {},
   "source": [
    "# 141. Linked List Cycle"
   ]
  },
  {
   "cell_type": "code",
   "execution_count": 23,
   "id": "0ca5da9e",
   "metadata": {},
   "outputs": [],
   "source": [
    "# Definition for singly-linked list.\n",
    "class ListNode:\n",
    "    def __init__(self, x):\n",
    "        self.val = x\n",
    "        self.next = None\n",
    "\n",
    "class Solution:\n",
    "    def hasCycle(self, head: ListNode) -> bool:\n",
    "        slow = head\n",
    "        fast = head\n",
    "        while fast and fast.next:\n",
    "            slow = slow.next\n",
    "            fast = fast.next.next\n",
    "            if slow == fast:\n",
    "                return True\n",
    "        return False"
   ]
  },
  {
   "cell_type": "markdown",
   "id": "4440d1f5",
   "metadata": {},
   "source": [
    "# 142. Linked List Cycle II"
   ]
  },
  {
   "cell_type": "code",
   "execution_count": 24,
   "id": "ca820234",
   "metadata": {},
   "outputs": [],
   "source": [
    "class Solution:\n",
    "    def detectCycle(self, head:[ListNode]) -> [ListNode]:\n",
    "        slow, fast = head, head\n",
    "        while fast and fast.next:\n",
    "            slow = slow.next\n",
    "            fast = fast.next.next\n",
    "            if slow == fast:\n",
    "                break\n",
    "        else:\n",
    "            return None\n",
    "\n",
    "        slow = head\n",
    "        while slow != fast:\n",
    "            slow = slow.next\n",
    "            fast = fast.next\n",
    "        return slow"
   ]
  },
  {
   "cell_type": "markdown",
   "id": "f27c8886",
   "metadata": {},
   "source": [
    "# 147. Insertion Sort List"
   ]
  },
  {
   "cell_type": "code",
   "execution_count": 28,
   "id": "50210320",
   "metadata": {},
   "outputs": [],
   "source": [
    "class Solution:\n",
    "    def insertionSortList(self, head):\n",
    "        dummy = ListNode(0,head)\n",
    "        prev,curr = head, head.next\n",
    "\n",
    "        while curr:\n",
    "            if curr.val >= prev.val:\n",
    "                prev,curr = curr, curr.next\n",
    "                continue\n",
    "\n",
    "            temp = dummy\n",
    "            while curr.val>temp.next.val:\n",
    "                temp = temp.next\n",
    "            prev.next = curr.next\n",
    "            curr.next = temp.next\n",
    "            temp.next = curr   \n",
    "            curr = prev.next  \n",
    "        return dummy.next"
   ]
  },
  {
   "cell_type": "markdown",
   "id": "7dbf4bc7",
   "metadata": {},
   "source": [
    "# 148. Sort List"
   ]
  },
  {
   "cell_type": "code",
   "execution_count": 30,
   "id": "fe7daf50",
   "metadata": {},
   "outputs": [],
   "source": [
    "class Solution:\n",
    "    def sortList(self, head:[ListNode]) -> [ListNode]:\n",
    "        if not head or not head.next:\n",
    "            return head\n",
    "        #Divide into left and right\n",
    "        left = head\n",
    "        mid = self.getmid(head)\n",
    "        tmp = mid.next\n",
    "        mid.next = None\n",
    "        right = tmp\n",
    "\n",
    "        #merge\n",
    "        left = self.sortList(left)\n",
    "        right = self.sortList(right)\n",
    "\n",
    "        return self.merge(left,right)\n",
    "\n",
    "    def getmid(self,head):\n",
    "        slow = head\n",
    "        fast = head.next\n",
    "        while fast and fast.next:\n",
    "            slow = slow.next\n",
    "            fast = fast.next.next\n",
    "        return slow\n",
    "\n",
    "    def merge(self,left,right):\n",
    "        tail = dummy = ListNode()\n",
    "        while left and right:\n",
    "            if left.val < right.val:\n",
    "                tail.next = left\n",
    "                left = left.next\n",
    "            else:\n",
    "                tail.next = right\n",
    "                right = right.next\n",
    "            tail = tail.next\n",
    "        if left:\n",
    "            tail.next = left\n",
    "        if right:\n",
    "            tail.next = right\n",
    "        return dummy.next"
   ]
  },
  {
   "cell_type": "markdown",
   "id": "01f12a08",
   "metadata": {},
   "source": [
    "# 86. Partition List"
   ]
  },
  {
   "cell_type": "code",
   "execution_count": 32,
   "id": "b3c59b5e",
   "metadata": {},
   "outputs": [],
   "source": [
    "class Solution:\n",
    "    def partition(self, head: [ListNode], x: int) -> [ListNode]:\n",
    "        left, right = ListNode(), ListNode()\n",
    "        leftail, rightail = left, right\n",
    "        while head:\n",
    "            if head.val < x:\n",
    "                leftail.next = head\n",
    "                leftail = leftail.next\n",
    "            else:\n",
    "                rightail.next = head\n",
    "                rightail = rightail.next\n",
    "            head = head.next \n",
    "        rightail.next = None\n",
    "        leftail.next = right.next\n",
    "        return left.next"
   ]
  },
  {
   "cell_type": "markdown",
   "id": "6461e84d",
   "metadata": {},
   "source": [
    "# 160. Intersection of Two Linked Lists"
   ]
  },
  {
   "cell_type": "code",
   "execution_count": 34,
   "id": "43638316",
   "metadata": {},
   "outputs": [],
   "source": [
    "class Solution:\n",
    "    def getIntersectionNode(self, headA: ListNode, headB: ListNode) -> [ListNode]:\n",
    "        l1, l2 = headA, headB\n",
    "        while l1 != l2:\n",
    "            l1 = l1.next if l1 else headB\n",
    "            l2 = l2.next if l2 else headA\n",
    "        return l1"
   ]
  },
  {
   "cell_type": "markdown",
   "id": "034b4400",
   "metadata": {},
   "source": [
    "# 328. Odd Even Linked List"
   ]
  },
  {
   "cell_type": "code",
   "execution_count": 17,
   "id": "9cc72076",
   "metadata": {},
   "outputs": [],
   "source": [
    "class Solution:\n",
    "    def oddEvenList(self, head):\n",
    "        if not head:\n",
    "            return head\n",
    "        if not head.next:\n",
    "            return head\n",
    "\n",
    "        oddH, oddT = ListNode(),ListNode()\n",
    "        evenH,evenT = ListNode(),ListNode()\n",
    "        oddH.next = oddT\n",
    "        evenH.next = evenT\n",
    "\n",
    "        count = 1\n",
    "        while head:\n",
    "            if count%2 == 0:\n",
    "                evenT.next = head\n",
    "                evenT = evenT.next\n",
    "            else:\n",
    "                oddT.next = head\n",
    "                oddT = oddT.next\n",
    "            head = head.next\n",
    "            count += 1\n",
    "        oddH = oddH.next.next\n",
    "        evenH = evenH.next.next\n",
    "        evenT.next = None\n",
    "        oddT.next = evenH"
   ]
  },
  {
   "cell_type": "markdown",
   "id": "535754ab",
   "metadata": {},
   "source": [
    "# 82. Remove Duplicates from Sorted List II"
   ]
  },
  {
   "cell_type": "code",
   "execution_count": 4,
   "id": "4e48dc94",
   "metadata": {},
   "outputs": [],
   "source": [
    "class Solution:\n",
    "    def deleteDuplicates(self, head):\n",
    "        if not head or not head.next:\n",
    "            return head\n",
    "        pre = ListNode(head.val, None)\n",
    "        curr = head.next\n",
    "        out_start = ListNode()\n",
    "        out_end = ListNode()\n",
    "        out_start.next = out_end\n",
    "        Flag = 0\n",
    "        while curr:\n",
    "            if curr.val == pre.val:\n",
    "                while  curr.next and curr.val == pre.val:\n",
    "                    curr = curr.next\n",
    "                if pre.val == curr.val:\n",
    "                    Flag = 0\n",
    "                else:\n",
    "                    Flag = 1\n",
    "                pre = ListNode(curr.val, None)\n",
    "            else:\n",
    "                out_end.next = pre\n",
    "                out_end = out_end.next\n",
    "                Flag = 1\n",
    "                pre = ListNode(curr.val, None)\n",
    "            curr = curr.next\n",
    "        if Flag == 1:\n",
    "            out_end.next = pre\n",
    "        return out_start.next.next"
   ]
  },
  {
   "cell_type": "markdown",
   "id": "b6d18cc1",
   "metadata": {},
   "source": [
    "# 19. Remove Nth Node From End of List"
   ]
  },
  {
   "cell_type": "code",
   "execution_count": 5,
   "id": "2a74905a",
   "metadata": {},
   "outputs": [],
   "source": [
    "class Solution:\n",
    "    def removeNthFromEnd(self, head, n: int):\n",
    "        if not head:\n",
    "            return head\n",
    "        if head and not head.next and n==1:\n",
    "            return None\n",
    "\n",
    "        curr = head\n",
    "        count = 1\n",
    "        while curr.next:\n",
    "            curr = curr.next\n",
    "            count += 1\n",
    "\n",
    "        if count == n:\n",
    "            return head.next\n",
    "\n",
    "        diff = count - n\n",
    "        count = 1\n",
    "        curr = head\n",
    "        while head and head.next:\n",
    "            if count == diff:\n",
    "                head.next = head.next.next\n",
    "            head = head.next\n",
    "            count += 1\n",
    "        return curr"
   ]
  },
  {
   "cell_type": "markdown",
   "id": "e8046a01",
   "metadata": {},
   "source": [
    "# 2095. Delete the Middle Node of a Linked List"
   ]
  },
  {
   "cell_type": "code",
   "execution_count": 6,
   "id": "702f4d1a",
   "metadata": {},
   "outputs": [],
   "source": [
    "class Solution:\n",
    "    def deleteMiddle(self, head):\n",
    "        if not head or not head.next:\n",
    "            return None\n",
    "\n",
    "        count = 1\n",
    "        curr = head\n",
    "        while curr.next:\n",
    "            curr = curr.next\n",
    "            count += 1\n",
    "        \n",
    "        mid = 1+ count//2\n",
    "\n",
    "        count = 1\n",
    "        curr = head\n",
    "        while curr:\n",
    "            if count+1 == mid:\n",
    "                curr.next = curr.next.next\n",
    "            count += 1\n",
    "            curr = curr.next\n",
    "\n",
    "        return head"
   ]
  },
  {
   "cell_type": "markdown",
   "id": "efc22ebb",
   "metadata": {},
   "source": [
    "# 237. Delete Node in a Linked List"
   ]
  },
  {
   "cell_type": "code",
   "execution_count": 7,
   "id": "711b6e10",
   "metadata": {},
   "outputs": [],
   "source": [
    "class Solution:\n",
    "    def deleteNode(self, node):\n",
    "        \"\"\"\n",
    "        :type node: ListNode\n",
    "        :rtype: void Do not return anything, modify node in-place instead.\n",
    "        \"\"\"\n",
    "        curr = node\n",
    "        while node.next:\n",
    "            node.val = node.next.val #shift value by 1 \n",
    "            curr = node\n",
    "            node = node.next\n",
    "        curr.next = None #make last value None\n",
    "        "
   ]
  },
  {
   "cell_type": "markdown",
   "id": "83ff1126",
   "metadata": {},
   "source": [
    "# 725. Split Linked List in Parts"
   ]
  },
  {
   "cell_type": "code",
   "execution_count": 40,
   "id": "46b730dd",
   "metadata": {},
   "outputs": [],
   "source": [
    "class Solution:\n",
    "    def splitListToParts(self, head, k: int):\n",
    "        count = 0 #works when head = []\n",
    "        curr = head\n",
    "        while curr:\n",
    "            curr = curr.next\n",
    "            count += 1\n",
    "        \n",
    "        chunk_size, larger_chunk = count//k, count%k\n",
    "        out = [chunk_size+1]*larger_chunk + [chunk_size]*(k-larger_chunk)\n",
    "        prev,curr = None,head\n",
    "        for i, num in enumerate(out):\n",
    "            if prev:\n",
    "                prev.next = None\n",
    "            out[i] = curr\n",
    "            for i in range(num):\n",
    "                prev, curr = curr, curr.next\n",
    "        return out"
   ]
  },
  {
   "cell_type": "markdown",
   "id": "68f13b13",
   "metadata": {},
   "source": [
    "# 1669. Merge In Between Linked Lists"
   ]
  },
  {
   "cell_type": "code",
   "execution_count": 8,
   "id": "ef03e1a5",
   "metadata": {},
   "outputs": [],
   "source": [
    "class Solution:\n",
    "    def mergeInBetween(self, list1, a: int, b: int, list2):\n",
    "        count = 0\n",
    "        curr = list1\n",
    "        while curr:\n",
    "            count += 1\n",
    "            if count == a:\n",
    "                temp = curr.next\n",
    "                temp1 = curr\n",
    "                curr = temp\n",
    "                temp1.next = None\n",
    "            if count == b:\n",
    "                temp2 = curr.next\n",
    "            curr = curr.next\n",
    "        temp1.next = list2\n",
    "        while temp1.next:\n",
    "            temp1 = temp1.next\n",
    "        temp1.next = temp2\n",
    "        \n",
    "        return list1"
   ]
  },
  {
   "cell_type": "markdown",
   "id": "4b33b3f2",
   "metadata": {},
   "source": [
    "# 1721. Swapping Nodes in a Linked List"
   ]
  },
  {
   "cell_type": "code",
   "execution_count": 2,
   "id": "436e511a",
   "metadata": {},
   "outputs": [],
   "source": [
    "class Solution:\n",
    "    def swapNodes(self, head, k: int):\n",
    "        total = 1\n",
    "        curr = head\n",
    "        while curr.next:\n",
    "            curr = curr.next\n",
    "            total = total + 1\n",
    "\n",
    "        second_count = total - k + 1\n",
    "\n",
    "        count = 1\n",
    "        pointer1 = head\n",
    "        while pointer1:\n",
    "            if count == k:\n",
    "                break\n",
    "            pointer1 = pointer1.next\n",
    "            count += 1\n",
    "\n",
    "        count = 1\n",
    "        pointer2 = head\n",
    "        while pointer2:\n",
    "            if count == second_count:\n",
    "                break\n",
    "            pointer2 = pointer2.next\n",
    "            count += 1\n",
    "            \n",
    "        pointer1.val, pointer2.val = pointer2.val, pointer1.val\n",
    "\n",
    "        return head"
   ]
  },
  {
   "cell_type": "markdown",
   "id": "2530b146",
   "metadata": {},
   "source": [
    "# 1019. Next Greater Node In Linked List"
   ]
  },
  {
   "cell_type": "code",
   "execution_count": 4,
   "id": "e9f9b60f",
   "metadata": {},
   "outputs": [],
   "source": [
    "class Solution:\n",
    "    def nextLargerNodes(self, head):\n",
    "        output = []\n",
    "        stack = []\n",
    "        curr = head\n",
    "        while curr:\n",
    "            output.append(0)\n",
    "            curr = curr.next\n",
    "\n",
    "        curr = head\n",
    "        pos = 0\n",
    "        while curr:\n",
    "            if not stack or curr.val < stack[-1][1]:\n",
    "                stack.append([pos, curr.val])\n",
    "            else:\n",
    "                while stack and curr.val > stack[-1][1]:\n",
    "                    ind, val = stack.pop()\n",
    "                    output[ind] = curr.val\n",
    "                stack.append([pos,curr.val])\n",
    "            curr = curr.next\n",
    "            pos += 1\n",
    "        return output"
   ]
  },
  {
   "cell_type": "markdown",
   "id": "98d43910",
   "metadata": {},
   "source": [
    "# 817. Linked List Components"
   ]
  },
  {
   "cell_type": "code",
   "execution_count": 5,
   "id": "d6cf4227",
   "metadata": {},
   "outputs": [],
   "source": [
    "class Solution:\n",
    "    def numComponents(self, head):\n",
    "        numbers = 0\n",
    "        prev = False\n",
    "        curr = head\n",
    "        while curr:\n",
    "            if curr.val in nums:\n",
    "                prev = True\n",
    "            else:\n",
    "                if prev == True:\n",
    "                    numbers += 1\n",
    "                    prev = False\n",
    "                \n",
    "            curr = curr.next\n",
    "        if prev == True:\n",
    "            numbers += 1\n",
    "        return numbers"
   ]
  },
  {
   "cell_type": "markdown",
   "id": "32afe6f6",
   "metadata": {},
   "source": [
    "# 2130. Maximum Twin Sum of a Linked List"
   ]
  },
  {
   "cell_type": "code",
   "execution_count": 6,
   "id": "bb7a5559",
   "metadata": {},
   "outputs": [],
   "source": [
    "class Solution:\n",
    "    def pairSum(self, head):\n",
    "        dicts = {}\n",
    "        curr = head\n",
    "        count = 0\n",
    "        while curr:\n",
    "            curr = curr.next\n",
    "            count += 1\n",
    "\n",
    "        curr = head\n",
    "        pos = 0\n",
    "        value = 0\n",
    "        while curr:\n",
    "            ind = count - 1 - pos\n",
    "            if pos in dicts:\n",
    "                value = max(value, dicts[pos] + curr.val)\n",
    "            else:\n",
    "                dicts[ind] = curr.val\n",
    "            curr = curr.next\n",
    "            pos += 1\n",
    "\n",
    "\n",
    "        return value"
   ]
  },
  {
   "cell_type": "markdown",
   "id": "620acb81",
   "metadata": {},
   "source": [
    "# 1171. Remove Zero Sum Consecutive Nodes from Linked List"
   ]
  },
  {
   "cell_type": "code",
   "execution_count": 10,
   "id": "7ece443d",
   "metadata": {},
   "outputs": [],
   "source": [
    "class Solution:\n",
    "    def removeZeroSumSublists(self, head):\n",
    "        dicts = {}\n",
    "        dummy = ListNode(0)\n",
    "        dummy.next = head\n",
    "        dicts[0] = dummy\n",
    "        curr = head\n",
    "        cum_sum = 0\n",
    "        while curr:\n",
    "            cum_sum += curr.val\n",
    "            if cum_sum in dicts:\n",
    "                to_remove = dicts[cum_sum].next\n",
    "                temp_total = cum_sum\n",
    "                while to_remove != curr:\n",
    "                    temp_total += to_remove.val\n",
    "                    del dicts[temp_total]\n",
    "                    to_remove = to_remove.next\n",
    "                dicts[cum_sum].next = curr.next\n",
    "            else:\n",
    "                dicts[cum_sum] = curr\n",
    "            curr = curr.next\n",
    "        return dummy.next"
   ]
  },
  {
   "cell_type": "markdown",
   "id": "84d9dbc2",
   "metadata": {},
   "source": [
    "# 24. Swap Nodes in Pairs"
   ]
  },
  {
   "cell_type": "code",
   "execution_count": 11,
   "id": "ead4f1da",
   "metadata": {},
   "outputs": [],
   "source": [
    "class Solution:\n",
    "    def swapPairs(self, head):\n",
    "        curr = head\n",
    "\n",
    "        while curr and curr.next:\n",
    "            curr.val, curr.next.val = curr.next.val, curr.val\n",
    "            curr = curr.next.next\n",
    "        return head"
   ]
  },
  {
   "cell_type": "code",
   "execution_count": 12,
   "id": "e8b53cda",
   "metadata": {},
   "outputs": [],
   "source": [
    "class Solution:\n",
    "    def swapPairs(self, head):\n",
    "        prev = ListNode()\n",
    "        start = prev\n",
    "        prev.next = head\n",
    "        while head and head.next:\n",
    "            temp = head.next\n",
    "            head.next = head.next.next\n",
    "            temp.next = head\n",
    "            prev.next = temp\n",
    "            prev = head\n",
    "            head = head.next\n",
    "        return start.next"
   ]
  },
  {
   "cell_type": "markdown",
   "id": "9cf221ac",
   "metadata": {},
   "source": [
    "# 707. Design Linked List"
   ]
  },
  {
   "cell_type": "code",
   "execution_count": 13,
   "id": "a8ec2aad",
   "metadata": {},
   "outputs": [],
   "source": [
    "class Node:\n",
    "    def __init__(self, val = 0, next = None):\n",
    "        self.val = val\n",
    "        self.next = next\n",
    "\n",
    "class MyLinkedList:\n",
    "\n",
    "    def __init__(self):\n",
    "        self.head = Node()\n",
    "        self.size = 0\n",
    "    \n",
    "    def get(self, index: int) -> int:\n",
    "        if index <0 or index >= self.size:\n",
    "            return -1\n",
    "        \n",
    "        curr = self.head\n",
    "        for _ in range(index):\n",
    "            curr = curr.next\n",
    "        return curr.val\n",
    "        \n",
    "    def addAtHead(self, val: int) -> None:\n",
    "        self.addAtIndex(0,val)\n",
    "\n",
    "    def addAtTail(self, val: int) -> None:\n",
    "        self.addAtIndex(self.size, val)\n",
    "\n",
    "    def addAtIndex(self, index: int, val: int) -> None:\n",
    "        if index > self.size:\n",
    "            return\n",
    "        curr = self.head\n",
    "        new_node = Node(val, None)\n",
    "\n",
    "        if index <= 0:\n",
    "            new_node.next = curr\n",
    "            self.head = new_node\n",
    "        else: \n",
    "            for _ in range(index-1):\n",
    "                curr = curr.next\n",
    "            new_node.next = curr.next\n",
    "            curr.next = new_node\n",
    "        self.size += 1\n",
    "        \n",
    "\n",
    "    def deleteAtIndex(self, index: int) -> None:\n",
    "        if index<0 or index >= self.size:\n",
    "            return\n",
    "        curr = self.head\n",
    "        if index == 0:\n",
    "            self.head = self.head.next\n",
    "        else:\n",
    "            for _ in range(index-1):\n",
    "                curr = curr.next\n",
    "            curr.next = curr.next.next\n",
    "        self.size -= 1"
   ]
  },
  {
   "cell_type": "markdown",
   "id": "e3657d94",
   "metadata": {},
   "source": [
    "# 92. Reverse Linked List II"
   ]
  },
  {
   "cell_type": "code",
   "execution_count": 15,
   "id": "d392d500",
   "metadata": {},
   "outputs": [],
   "source": [
    "class Solution:\n",
    "    def reverseBetween(self, head, left: int, right: int):\n",
    "        dummy = ListNode()\n",
    "        dummy.next = head\n",
    "        pre = dummy\n",
    "        curr = dummy.next\n",
    "\n",
    "        for i in range(left-1):\n",
    "            pre = curr\n",
    "            curr = curr.next\n",
    "\n",
    "        previous_node = pre\n",
    "        curr_node = curr\n",
    "\n",
    "        diff = right-left+1\n",
    "    \n",
    "        for i in range(diff):\n",
    "            if curr:\n",
    "                temp = curr.next\n",
    "                curr.next = pre\n",
    "                pre = curr\n",
    "                curr = temp\n",
    "                \n",
    "        previous_node.next = pre\n",
    "        curr_node.next = curr\n",
    "\n",
    "        return dummy.next"
   ]
  },
  {
   "cell_type": "markdown",
   "id": "3c7c017c",
   "metadata": {},
   "source": [
    "# 2487. Remove Nodes From Linked List"
   ]
  },
  {
   "cell_type": "code",
   "execution_count": 16,
   "id": "96b685f7",
   "metadata": {},
   "outputs": [],
   "source": [
    "class Solution:\n",
    "    def removeNodes(self, head):\n",
    "        arr = []\n",
    "        curr = head\n",
    "        while curr:\n",
    "            arr.append(curr.val)\n",
    "            curr = curr.next\n",
    "\n",
    "        out = []\n",
    "        for i in reversed(arr):\n",
    "            if len(out) == 0 or i>=out[-1]:\n",
    "                out.append(i)\n",
    "\n",
    "        out = list(reversed(out))\n",
    "\n",
    "        dummy = ListNode()\n",
    "        new_head = ListNode(out[0])\n",
    "        dummy.next = new_head\n",
    "        for i in out[1:]:\n",
    "            new_head.next = ListNode(i)\n",
    "            new_head = new_head.next\n",
    "        return dummy.next\n"
   ]
  },
  {
   "cell_type": "code",
   "execution_count": null,
   "id": "5056a19b",
   "metadata": {},
   "outputs": [],
   "source": []
  }
 ],
 "metadata": {
  "kernelspec": {
   "display_name": "Python 3 (ipykernel)",
   "language": "python",
   "name": "python3"
  },
  "language_info": {
   "codemirror_mode": {
    "name": "ipython",
    "version": 3
   },
   "file_extension": ".py",
   "mimetype": "text/x-python",
   "name": "python",
   "nbconvert_exporter": "python",
   "pygments_lexer": "ipython3",
   "version": "3.9.15"
  }
 },
 "nbformat": 4,
 "nbformat_minor": 5
}
