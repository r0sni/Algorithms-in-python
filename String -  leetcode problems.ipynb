{
 "cells": [
  {
   "cell_type": "markdown",
   "id": "60fea152",
   "metadata": {},
   "source": [
    "# 242. Valid Anagram"
   ]
  },
  {
   "cell_type": "code",
   "execution_count": 4,
   "id": "5a52fa8f",
   "metadata": {},
   "outputs": [],
   "source": [
    "class Solution:\n",
    "    def isAnagram(self, s: str, t: str) -> bool:\n",
    "        s_t = sorted(s)\n",
    "        t_s = sorted(t)\n",
    "        if s_t == t_s:\n",
    "            return True\n",
    "        else:\n",
    "            return False"
   ]
  },
  {
   "cell_type": "markdown",
   "id": "165bf643",
   "metadata": {},
   "source": [
    "# 125. Valid Palindrome"
   ]
  },
  {
   "cell_type": "code",
   "execution_count": 34,
   "id": "f7d9579c",
   "metadata": {},
   "outputs": [],
   "source": [
    "import re\n",
    "\n",
    "class Solution:\n",
    "    def isPalindrome(self, s: str) -> bool:\n",
    "        s_lower = re.sub(r'[^a-zA-Z0-9]', '',s).lower()\n",
    "        if s_lower == s_lower[::-1]:\n",
    "            return True\n",
    "        else:\n",
    "            return False"
   ]
  },
  {
   "cell_type": "markdown",
   "id": "20cc3c5a",
   "metadata": {},
   "source": [
    "# 3. Longest Substring Without Repeating Characters"
   ]
  },
  {
   "cell_type": "code",
   "execution_count": 1,
   "id": "02f45a40",
   "metadata": {},
   "outputs": [],
   "source": [
    "def longest_substring(s):\n",
    "    set_s = set()\n",
    "    output = 0\n",
    "    l = 0\n",
    "    for r in range(len(s)):\n",
    "        while s[r] in set_s:\n",
    "            set_s.remove(s[l]) #we want to remove left most element i.e in case of abcda we want to remove a,\n",
    "            l = l+1            #in case of abcdb, we want to remove both a and b.\n",
    "        set_s.add(s[r])\n",
    "        output = max(output, r-l+1)\n",
    "    return output"
   ]
  },
  {
   "cell_type": "markdown",
   "id": "b5e2e2f0",
   "metadata": {},
   "source": [
    "# 424. Longest Repeating Character Replacement"
   ]
  },
  {
   "cell_type": "code",
   "execution_count": 32,
   "id": "be231a33",
   "metadata": {},
   "outputs": [],
   "source": [
    "def longest_substring(s,k):\n",
    "    s_dict = {}\n",
    "    l= 0\n",
    "    output = 0\n",
    "    for r in range(len(s)):\n",
    "        if s[r] not in s_dict:\n",
    "            s_dict[s[r]] = 1\n",
    "        else:\n",
    "            s_dict[s[r]] += 1\n",
    "        print(s_dict)\n",
    "        \n",
    "        sub_len = r-l+1\n",
    "        max_freq = max(s_dict.values())\n",
    "    \n",
    "        while (sub_len - max_freq > k):\n",
    "            s_dict[s[l]] -= 1\n",
    "            l += 1\n",
    "            sub_len = r-l+1\n",
    "            max_freq = max(s_dict.values())\n",
    "        output = max(output, sub_len)\n",
    "    return output\n",
    "    "
   ]
  },
  {
   "cell_type": "markdown",
   "id": "9ddd2de9",
   "metadata": {},
   "source": [
    "# 438. Find All Anagrams in a String"
   ]
  },
  {
   "cell_type": "code",
   "execution_count": 32,
   "id": "ab018cb3",
   "metadata": {},
   "outputs": [],
   "source": [
    "class Solution:\n",
    "    def findAnagrams(self, s: str, p: str):\n",
    "        if len(p) > len(s):\n",
    "            return []\n",
    "        \n",
    "        s_dict, p_dict = {}, {}\n",
    "        for i in range(len(p)):\n",
    "            p_dict[p[i]] = 1 + p_dict.get(p[i],0)\n",
    "            s_dict[s[i]] = 1 + s_dict.get(s[i], 0)\n",
    "        \n",
    "        output = []\n",
    "        if p_dict == s_dict:\n",
    "            output.append(0)\n",
    "        \n",
    "        l = 0\n",
    "        for r in range(len(p), len(s), 1):\n",
    "            if s[l] in s_dict:\n",
    "                s_dict[s[l]] -= 1\n",
    "            if s_dict[s[l]] == 0:\n",
    "                s_dict.pop(s[l])\n",
    "            l = l+1\n",
    "            s_dict[s[r]]= 1 + s_dict.get(s[r], 0)\n",
    "            if s_dict == p_dict:\n",
    "                output.append(l)\n",
    "        return output"
   ]
  },
  {
   "cell_type": "markdown",
   "id": "3c9fa087",
   "metadata": {},
   "source": [
    "# 76. Minimum Window Substring"
   ]
  },
  {
   "cell_type": "code",
   "execution_count": 91,
   "id": "06300bfe",
   "metadata": {},
   "outputs": [],
   "source": [
    "class Solution:\n",
    "    def minWindow(self, s: str, t: str) -> str:\n",
    "        if t == '':\n",
    "            return ''\n",
    "        t_dict, s_dict = {},{}\n",
    "        for i in t:\n",
    "            t_dict[i] = 1+ t_dict.get(i,0) #put the element of t in a dictionary\n",
    "            \n",
    "        have, need = 0, len(t_dict) \n",
    "        indices, length = [-1,-1], float('infinity') #infinity because we want to find minimum\n",
    "        l = 0\n",
    "        for r in range(len(s)):\n",
    "            s_dict[s[r]] = 1 + s_dict.get(s[r],0)\n",
    "            if s[r] in t_dict and s_dict[s[r]] == t_dict[s[r]]:\n",
    "                have += 1\n",
    "            while have == need:\n",
    "                if r-l+1 < length:\n",
    "                    length = r-l+1\n",
    "                    indices = [l,r]\n",
    "                s_dict[s[l]] -= 1\n",
    "                if s[l] in t_dict and s_dict[s[l]] < t_dict[s[l]]:\n",
    "                    have -= 1\n",
    "                l += 1\n",
    "        l,r = indices[0], indices[1]\n",
    "        return s[l:r+1] if r-l+1 < float('infinity') else ''"
   ]
  },
  {
   "cell_type": "markdown",
   "id": "c5cef56d",
   "metadata": {},
   "source": [
    "# 49. Group Anagrams"
   ]
  },
  {
   "cell_type": "code",
   "execution_count": 22,
   "id": "a9b9b543",
   "metadata": {},
   "outputs": [],
   "source": [
    "class Solution:\n",
    "    def groupAnagrams(self, strs):\n",
    "        if strs == [\"\"]:\n",
    "            return [[\"\"]]\n",
    "        output = {}\n",
    "        for i in strs:\n",
    "            s = ''.join(sorted(i))\n",
    "            if s not in output:\n",
    "                output[s] = [i]\n",
    "            else:\n",
    "                output[s].append(i)\n",
    "        return list(output.values())\n",
    "        "
   ]
  },
  {
   "cell_type": "markdown",
   "id": "b48c5e39",
   "metadata": {},
   "source": [
    "# 5. Longest Palindromic Substring"
   ]
  },
  {
   "cell_type": "code",
   "execution_count": 2,
   "id": "eb08f6da",
   "metadata": {},
   "outputs": [],
   "source": [
    "#O(n2) method\n",
    "def longest_sub(s):\n",
    "    long_sub = ''\n",
    "    length = 0\n",
    "    for i in range(len(s)):\n",
    "        #for odd substring\n",
    "        l,r = i,i\n",
    "        while l >= 0 and r < len(s) and s[l] == s[r]:\n",
    "            if r-l+1 > length:\n",
    "                long_sub = s[l:r+1]\n",
    "                length = r-l+1\n",
    "            l -= 1\n",
    "            r += 1\n",
    "        #for even substring\n",
    "        l,r = i,i+1\n",
    "        while l>=0 and r<len(s) and s[l] == s[r]:\n",
    "            if r-l+1 > length:\n",
    "                long_sub = s[l:r+1]\n",
    "                length = r-l+1\n",
    "            l -= 1\n",
    "            r += 1\n",
    "    return long_sub"
   ]
  },
  {
   "cell_type": "code",
   "execution_count": null,
   "id": "ad3bdf2e",
   "metadata": {},
   "outputs": [],
   "source": []
  }
 ],
 "metadata": {
  "kernelspec": {
   "display_name": "Python 3 (ipykernel)",
   "language": "python",
   "name": "python3"
  },
  "language_info": {
   "codemirror_mode": {
    "name": "ipython",
    "version": 3
   },
   "file_extension": ".py",
   "mimetype": "text/x-python",
   "name": "python",
   "nbconvert_exporter": "python",
   "pygments_lexer": "ipython3",
   "version": "3.9.15"
  }
 },
 "nbformat": 4,
 "nbformat_minor": 5
}
