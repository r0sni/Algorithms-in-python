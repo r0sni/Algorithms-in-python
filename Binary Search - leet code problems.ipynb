{
 "cells": [
  {
   "cell_type": "markdown",
   "id": "2eebbe65",
   "metadata": {},
   "source": [
    "# 410. Split Array Largest Sum"
   ]
  },
  {
   "cell_type": "code",
   "execution_count": 2,
   "id": "ee0ff57a",
   "metadata": {},
   "outputs": [],
   "source": [
    "class Solution:\n",
    "    def splitArray(self, nums, k: int) -> int:\n",
    "        def canSplit(largestNum):\n",
    "            start = 0\n",
    "            numSubarrays = 0\n",
    "            for n in nums:\n",
    "                start += n\n",
    "                if start > largestNum:\n",
    "                    numSubarrays += 1\n",
    "                    start = n #Since we add 1 to numSubarrays when start becomes greater, we did not include n there\n",
    "            return numSubarrays +1 <= k #1 is for last remaining subarray which value can be less than largestNum but do exist \n",
    "        \n",
    "        l,r = max(nums), sum(nums) #the largest subarray can be the sum of all nums and the smallest highest number can be the largest number in the array\n",
    "        out = r\n",
    "        while l<=r:\n",
    "            mid = l + (r-l)//2 \n",
    "            if canSplit(mid): #if the sum of nums in all subarrays is less than mid, then we can even try to reduce it\n",
    "                r = mid-1\n",
    "                out = mid\n",
    "            else:\n",
    "                l = mid+1\n",
    "        return out"
   ]
  },
  {
   "cell_type": "markdown",
   "id": "ac3bc325",
   "metadata": {},
   "source": [
    "# 704. Binary Search"
   ]
  },
  {
   "cell_type": "code",
   "execution_count": 4,
   "id": "b0fe6f0d",
   "metadata": {},
   "outputs": [],
   "source": [
    "class Solution:\n",
    "    def search(self, nums, target: int) -> int:\n",
    "        l = 0\n",
    "        r = len(nums)-1\n",
    "        while l <= r:\n",
    "            mid = l + (r-l)//2\n",
    "            if nums[mid] < target:\n",
    "                l = mid+1\n",
    "            elif nums[mid] == target:\n",
    "                return mid\n",
    "            else:\n",
    "                r = mid-1\n",
    "        return -1"
   ]
  },
  {
   "cell_type": "markdown",
   "id": "737c7abb",
   "metadata": {},
   "source": [
    "# 367. Valid Perfect Square"
   ]
  },
  {
   "cell_type": "code",
   "execution_count": 6,
   "id": "27b316e6",
   "metadata": {},
   "outputs": [],
   "source": [
    "#O(logn) solution\n",
    "class Solution:\n",
    "    def isPerfectSquare(self, num: int) -> bool:\n",
    "        l = 1\n",
    "        r = num\n",
    "        while l <= r:\n",
    "            mid = l + (r-l)//2\n",
    "            sqrt = mid*mid\n",
    "            if num > sqrt:\n",
    "                l = mid + 1\n",
    "            elif num < sqrt:\n",
    "                r = mid - 1\n",
    "            elif num == sqrt:\n",
    "                return True\n",
    "        return False\n",
    "    \n",
    "#O(sqrt(n)) solution\n",
    "class Solution:\n",
    "    def isPerfectSquare(self, num: int) -> bool:\n",
    "        for i in range(1, num+1):\n",
    "            if i*i == num:\n",
    "                return True\n",
    "        return False"
   ]
  },
  {
   "cell_type": "markdown",
   "id": "da123cf7",
   "metadata": {},
   "source": [
    "# 441. Arranging Coins"
   ]
  },
  {
   "cell_type": "code",
   "execution_count": 10,
   "id": "30c5a239",
   "metadata": {},
   "outputs": [],
   "source": [
    "class Solution:\n",
    "    def arrangeCoins(self, n: int) -> int:\n",
    "        l = 1\n",
    "        r = n\n",
    "        out = 0\n",
    "        while l<=r:\n",
    "            mid = l + (r-l)//2\n",
    "            coins = (mid/2)*(mid+1)\n",
    "            if n >= coins:\n",
    "                l = mid + 1\n",
    "                out = max(mid,out)\n",
    "            else:\n",
    "                r = mid-1\n",
    "        return out\n"
   ]
  },
  {
   "cell_type": "markdown",
   "id": "f73f5f01",
   "metadata": {},
   "source": [
    "# 374. Guess Number Higher or Lower"
   ]
  },
  {
   "cell_type": "code",
   "execution_count": 11,
   "id": "f552d98c",
   "metadata": {},
   "outputs": [],
   "source": [
    "class Solution:\n",
    "    def guessNumber(self, n: int) -> int:\n",
    "        l = 1\n",
    "        r = n\n",
    "        while True:\n",
    "            mid = l + (r-l)//2\n",
    "            guess_num = guess(mid)\n",
    "            if guess_num == 1:\n",
    "                l = mid+1\n",
    "            elif guess_num == -1:\n",
    "                r = mid-1\n",
    "            else:\n",
    "                return mid"
   ]
  },
  {
   "cell_type": "markdown",
   "id": "072da018",
   "metadata": {},
   "source": [
    "# 658. Find K Closest Elements"
   ]
  },
  {
   "cell_type": "code",
   "execution_count": 68,
   "id": "e9ef0fc9",
   "metadata": {},
   "outputs": [],
   "source": [
    "class Solution:\n",
    "    def findClosestElements(self, arr, k: int, x: int):\n",
    "        if x <arr[0]:\n",
    "            return arr[:k]\n",
    "        elif x>arr[-1]:\n",
    "            return arr[-k:]\n",
    "        l = 0\n",
    "        r = len(arr)\n",
    "        out = -1\n",
    "        while l<=r:\n",
    "            mid = l + (r-l)//2\n",
    "            if arr[mid]<x and arr[mid+1]>x:\n",
    "                if abs(x-arr[mid]) <= abs(x-arr[mid+1]):\n",
    "                    out = mid\n",
    "                else :\n",
    "                    out = mid+1\n",
    "                break\n",
    "            if arr[mid]<x:\n",
    "                l=mid+1\n",
    "            elif arr[mid]>x:\n",
    "                r=mid-1\n",
    "            else:\n",
    "                out = mid\n",
    "                break\n",
    "        count = 1\n",
    "        l = out\n",
    "        r = out\n",
    "        res = []\n",
    "        while count < k:\n",
    "            if l== 0:\n",
    "                r = r+1\n",
    "                count += 1\n",
    "            elif r == len(arr)-1:\n",
    "                l = l-1\n",
    "                count += 1\n",
    "            elif abs(arr[l-1]-x) <= abs(arr[r+1]-x):\n",
    "                l = l-1\n",
    "                count += 1\n",
    "            elif abs(arr[l-1]-x) > abs(arr[r+1]-x):\n",
    "                r = r+1\n",
    "                count += 1             \n",
    "        return arr[l:r+1]"
   ]
  },
  {
   "cell_type": "markdown",
   "id": "f143451e",
   "metadata": {},
   "source": [
    "# 1898. Maximum Number of Removable Characters\n"
   ]
  },
  {
   "cell_type": "code",
   "execution_count": 71,
   "id": "6a1e8748",
   "metadata": {},
   "outputs": [],
   "source": [
    "class Solution:\n",
    "    def maximumRemovals(self, s: str, p: str, removable) -> int:\n",
    "        def is_subsequence(s, subsequence, removed):\n",
    "            i1,i2=0,0\n",
    "            while i1<len(s) and i2<len(subsequence):\n",
    "                if i1 in removed or s[i1] != subsequence[i2]:\n",
    "                    i1 += 1\n",
    "                    continue\n",
    "                i1 += 1\n",
    "                i2 += 1\n",
    "            return i2 == len(subsequence)\n",
    "        res = 0\n",
    "        l,r = 0, len(removable)-1\n",
    "        while l<=r:\n",
    "            mid = l + (r-l)//2\n",
    "            removed = set(removable[:mid+1]) #searching in set is faster because set is maintained using hash table with time complexity O(1)\n",
    "            if is_subsequence(s,p,removed):\n",
    "                l = mid+1\n",
    "                res = max(res, mid+1)\n",
    "            else:\n",
    "                r = mid-1\n",
    "        return res"
   ]
  },
  {
   "cell_type": "markdown",
   "id": "3e0b9155",
   "metadata": {},
   "source": [
    "# 875. Koko Eating Bananas"
   ]
  },
  {
   "cell_type": "code",
   "execution_count": 81,
   "id": "8803fce9",
   "metadata": {},
   "outputs": [],
   "source": [
    "import math\n",
    "class Solution:\n",
    "    def minEatingSpeed(self, piles, h: int) -> int:\n",
    "        l = 1\n",
    "        r = max(piles)\n",
    "        out = r\n",
    "        while l<=r:\n",
    "            m = l + (r-l)//2\n",
    "            new_h = 0\n",
    "            for i in piles:\n",
    "                new_h += math.ceil(i/m)\n",
    "            if new_h <= h:\n",
    "                r = m-1\n",
    "                out = min(out,m)\n",
    "            else:\n",
    "                l = m+1\n",
    "        return out\n",
    "            "
   ]
  },
  {
   "cell_type": "markdown",
   "id": "4e4c9194",
   "metadata": {},
   "source": [
    "# 34. Find First and Last Position of Element in Sorted Array"
   ]
  },
  {
   "cell_type": "code",
   "execution_count": 176,
   "id": "d9e44790",
   "metadata": {},
   "outputs": [],
   "source": [
    "class Solution:\n",
    "    def searchRange(self, nums, target: int):\n",
    "        if not nums:\n",
    "            return [-1,-1]\n",
    "        l = 0\n",
    "        r = len(nums)-1\n",
    "        while l<=r:\n",
    "            m = l + (r-l)//2\n",
    "            if nums[m] < target:\n",
    "                l = m+1\n",
    "            elif nums[m] > target:\n",
    "                r = m-1\n",
    "            else:\n",
    "                l = r = m\n",
    "                while l>=0 and nums[l] == nums[m]:\n",
    "                    l = l-1\n",
    "                while r<=len(nums)-1 and nums[r] == nums[m]:\n",
    "                    r = r+1\n",
    "                return [l+1,r-1]\n",
    "        return [-1,-1]"
   ]
  },
  {
   "cell_type": "markdown",
   "id": "4e408e1b",
   "metadata": {},
   "source": [
    "# 35. Search Insert Position"
   ]
  },
  {
   "cell_type": "code",
   "execution_count": 185,
   "id": "0ad2c018",
   "metadata": {},
   "outputs": [],
   "source": [
    "def searchInsert(nums, target):\n",
    "    l = 0\n",
    "    r = len(nums)-1\n",
    "    while l<=r:\n",
    "        m = l + (r-l)//2\n",
    "        if nums[m]<target:\n",
    "            l = m+1\n",
    "        elif nums[m]>target:\n",
    "            r = m-1\n",
    "        else:\n",
    "            return m\n",
    "    print('No return')\n",
    "    print(l)\n",
    "    print(r)\n",
    "    print(m)"
   ]
  },
  {
   "cell_type": "code",
   "execution_count": null,
   "id": "ca22e49e",
   "metadata": {},
   "outputs": [],
   "source": []
  }
 ],
 "metadata": {
  "kernelspec": {
   "display_name": "Python 3 (ipykernel)",
   "language": "python",
   "name": "python3"
  },
  "language_info": {
   "codemirror_mode": {
    "name": "ipython",
    "version": 3
   },
   "file_extension": ".py",
   "mimetype": "text/x-python",
   "name": "python",
   "nbconvert_exporter": "python",
   "pygments_lexer": "ipython3",
   "version": "3.9.15"
  }
 },
 "nbformat": 4,
 "nbformat_minor": 5
}
